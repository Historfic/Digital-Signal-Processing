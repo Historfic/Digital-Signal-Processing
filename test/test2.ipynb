{
 "cells": [
  {
   "cell_type": "code",
   "execution_count": 4,
   "metadata": {},
   "outputs": [],
   "source": [
    "from pkg.adc_function import run_adc\n",
    "from pkg.fir_function import run_fir\n",
    "from pkg.moving_average_function import run_moving_average\n",
    "from pkg.High_pass_to_Low_pass import run_high_pass_to_low_pass\n",
    "\n",
    "import tkinter as tk\n",
    "from tkinter import ttk\n",
    "import customtkinter\n",
    "\n",
    "# Main application window\n",
    "class DSPApplication(tk.Tk):\n",
    "    def __init__(self):\n",
    "        super().__init__()\n",
    "\n",
    "        self.title(\"DSP Application\")\n",
    "        self.geometry(\"600x400\")\n",
    "\n",
    "        # Create a custom style for the buttons\n",
    "        style = ttk.Style()\n",
    "        style.configure(\"Colorful.TButton\", background=\"blue\", foreground=\"white\")\n",
    "\n",
    "        # Title Label\n",
    "        title_label = tk.Label(self, text=\"DSP GUI Application\", font=(\"Arial\", 16, \"bold\"))\n",
    "        title_label.pack(pady=20, padx=20)\n",
    "\n",
    "        # Button to open ADC window\n",
    "        adc_button = ttk.Button(self, text=\"Analog to Digital Conversion (ADC)\", width=40, command=run_adc,\n",
    "                                style=\"Colorful.TButton\")\n",
    "        adc_button.pack(pady=20, padx=20)\n",
    "\n",
    "        # Button to open FIR Filter window\n",
    "        fir_button = ttk.Button(self, text=\"FIR Filter for Audio and Image\", width=40, command=run_fir,\n",
    "                                style=\"Colorful.TButton\")\n",
    "        fir_button.pack(pady=20, padx=20)\n",
    "\n",
    "        # Button to open Moving Average Filter window\n",
    "        moving_average_button = ttk.Button(self, text=\"Moving Average Filter\", width=40, command=run_moving_average,\n",
    "                                           style=\"Colorful.TButton\")\n",
    "        moving_average_button.pack(pady=20)\n",
    "\n",
    "        # Button to open High-pass to Low-pass Filter Conversion window\n",
    "        filter_conversion_button = ttk.Button(self, text=\"High-pass to Low-pass Filter Conversion\", width=40,\n",
    "                                              command=run_high_pass_to_low_pass, style=\"Colorful.TButton\")\n",
    "        filter_conversion_button.pack(pady=20)\n",
    "\n",
    "# Run the application\n",
    "if __name__ == \"__main__\":\n",
    "    app = DSPApplication()\n",
    "    app.mainloop()\n"
   ]
  }
 ],
 "metadata": {
  "kernelspec": {
   "display_name": "Python 3",
   "language": "python",
   "name": "python3"
  },
  "language_info": {
   "codemirror_mode": {
    "name": "ipython",
    "version": 3
   },
   "file_extension": ".py",
   "mimetype": "text/x-python",
   "name": "python",
   "nbconvert_exporter": "python",
   "pygments_lexer": "ipython3",
   "version": "3.12.3"
  }
 },
 "nbformat": 4,
 "nbformat_minor": 2
}
